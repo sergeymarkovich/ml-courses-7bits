{
 "cells": [
  {
   "cell_type": "markdown",
   "metadata": {},
   "source": [
    "# Worshop 2.1 Numpy\n",
    "\n",
    "1. Скачайте этот ноутбук к себе.\n",
    "2. Заполните пропущенные ячейки, отвечая на заданные вопросы. Там должен быть код! (если не сказано обратное)\n",
    "3. Сохраните результат в своём гитхаб репозитории.\n",
    "\n",
    "#### Полезная литература\n",
    "\n",
    "- http://www.numpy.org/\n",
    "- https://jakevdp.github.io/PythonDataScienceHandbook/02.00-introduction-to-numpy.html\n",
    "- https://docs.scipy.org/doc/numpy/user/quickstart.html"
   ]
  },
  {
   "cell_type": "markdown",
   "metadata": {},
   "source": [
    "1) Импортировать numpy и написать версию"
   ]
  },
  {
   "cell_type": "code",
   "execution_count": 5,
   "metadata": {},
   "outputs": [
    {
     "data": {
      "text/plain": [
       "'1.21.5'"
      ]
     },
     "execution_count": 5,
     "metadata": {},
     "output_type": "execute_result"
    }
   ],
   "source": [
    "import numpy as np\n",
    "np.__version__"
   ]
  },
  {
   "cell_type": "markdown",
   "metadata": {},
   "source": [
    "2) Создать нулевой вектор размера 10"
   ]
  },
  {
   "cell_type": "code",
   "execution_count": 25,
   "metadata": {},
   "outputs": [
    {
     "data": {
      "text/plain": [
       "array([0., 0., 0., 0., 0., 0., 0., 0., 0., 0.])"
      ]
     },
     "execution_count": 25,
     "metadata": {},
     "output_type": "execute_result"
    }
   ],
   "source": [
    "np.zeros(10)"
   ]
  },
  {
   "cell_type": "markdown",
   "metadata": {},
   "source": [
    "3) Создать вектор заполненный 7-ами размера 7"
   ]
  },
  {
   "cell_type": "code",
   "execution_count": 23,
   "metadata": {},
   "outputs": [
    {
     "data": {
      "text/plain": [
       "array([7, 7, 7, 7, 7, 7, 7])"
      ]
     },
     "execution_count": 23,
     "metadata": {},
     "output_type": "execute_result"
    }
   ],
   "source": [
    "# np.linspace(7, 7, 7)  // Формат float32\n",
    "np.full(7, 7)"
   ]
  },
  {
   "cell_type": "markdown",
   "metadata": {},
   "source": [
    "4) Создать вектор заполненный четными числами от 10 до 100"
   ]
  },
  {
   "cell_type": "code",
   "execution_count": 27,
   "metadata": {},
   "outputs": [
    {
     "data": {
      "text/plain": [
       "array([ 10,  11,  12,  13,  14,  15,  16,  17,  18,  19,  20,  21,  22,\n",
       "        23,  24,  25,  26,  27,  28,  29,  30,  31,  32,  33,  34,  35,\n",
       "        36,  37,  38,  39,  40,  41,  42,  43,  44,  45,  46,  47,  48,\n",
       "        49,  50,  51,  52,  53,  54,  55,  56,  57,  58,  59,  60,  61,\n",
       "        62,  63,  64,  65,  66,  67,  68,  69,  70,  71,  72,  73,  74,\n",
       "        75,  76,  77,  78,  79,  80,  81,  82,  83,  84,  85,  86,  87,\n",
       "        88,  89,  90,  91,  92,  93,  94,  95,  96,  97,  98,  99, 100])"
      ]
     },
     "execution_count": 27,
     "metadata": {},
     "output_type": "execute_result"
    }
   ],
   "source": [
    "np.arange(10,101)"
   ]
  },
  {
   "cell_type": "markdown",
   "metadata": {},
   "source": [
    "5) Создать массив случайных чисел и развернуть его задом наперёд"
   ]
  },
  {
   "cell_type": "code",
   "execution_count": 46,
   "metadata": {},
   "outputs": [
    {
     "name": "stdout",
     "output_type": "stream",
     "text": [
      "[0.315694   0.42002083 0.89907974 0.40610588 0.08153422]\n",
      "[0.08153422 0.40610588 0.89907974 0.42002083 0.315694  ]\n"
     ]
    }
   ],
   "source": [
    "arr5 = np.random.random(5,)\n",
    "print(arr5)\n",
    "arr5 = arr5[::-1]\n",
    "print(arr5)"
   ]
  },
  {
   "cell_type": "markdown",
   "metadata": {},
   "source": [
    "6) Создать двумерную матрицу размера 3 на 3, заполненную числами от 0 до 9"
   ]
  },
  {
   "cell_type": "code",
   "execution_count": 67,
   "metadata": {},
   "outputs": [
    {
     "data": {
      "text/plain": [
       "array([[0, 1, 2],\n",
       "       [3, 4, 5],\n",
       "       [6, 7, 8]])"
      ]
     },
     "execution_count": 67,
     "metadata": {},
     "output_type": "execute_result"
    }
   ],
   "source": [
    "np.arange(9).reshape(3,3)"
   ]
  },
  {
   "cell_type": "markdown",
   "metadata": {},
   "source": [
    "7) Создать матрицу размера 4 на 4 с единицами на диагонали смещеной на один наверх."
   ]
  },
  {
   "cell_type": "code",
   "execution_count": 62,
   "metadata": {},
   "outputs": [
    {
     "data": {
      "text/plain": [
       "array([[0., 1., 0., 0.],\n",
       "       [0., 0., 1., 0.],\n",
       "       [0., 0., 0., 1.],\n",
       "       [0., 0., 0., 0.]])"
      ]
     },
     "execution_count": 62,
     "metadata": {},
     "output_type": "execute_result"
    }
   ],
   "source": [
    "np.eye(4, k = 1)"
   ]
  },
  {
   "cell_type": "markdown",
   "metadata": {},
   "source": [
    "8) Создать матрицу с числами в диапазоне от 1 до 4 по диагонали. В других ячейках матрицы должны быть семерки."
   ]
  },
  {
   "cell_type": "code",
   "execution_count": 85,
   "metadata": {},
   "outputs": [
    {
     "name": "stdout",
     "output_type": "stream",
     "text": [
      "[[1 7 7 7]\n",
      " [7 2 7 7]\n",
      " [7 7 3 7]\n",
      " [7 7 7 4]]\n"
     ]
    }
   ],
   "source": [
    "arr8 = np.diag([1, 2, 3, 4])\n",
    "arr8[arr8 == 0] = 7\n",
    "print(arr8)"
   ]
  },
  {
   "cell_type": "markdown",
   "metadata": {},
   "source": [
    "9) Создать матрицу размера 5 на 5 заполненную чилами от 0 до 4 в строках."
   ]
  },
  {
   "cell_type": "code",
   "execution_count": 75,
   "metadata": {},
   "outputs": [
    {
     "data": {
      "text/plain": [
       "array([[0, 0, 0, 0, 0],\n",
       "       [0, 1, 0, 0, 0],\n",
       "       [0, 0, 2, 0, 0],\n",
       "       [0, 0, 0, 3, 0],\n",
       "       [0, 0, 0, 0, 4]])"
      ]
     },
     "execution_count": 75,
     "metadata": {},
     "output_type": "execute_result"
    }
   ],
   "source": [
    "np.diag([0, 1, 2, 3, 4])"
   ]
  },
  {
   "cell_type": "markdown",
   "metadata": {},
   "source": [
    "10) Создать матрицу случайных чисел размера 10 на 10 и отнять среднее по строкам из каждого элемента строки"
   ]
  },
  {
   "cell_type": "code",
   "execution_count": 112,
   "metadata": {},
   "outputs": [
    {
     "data": {
      "text/plain": [
       "array([[0.84374374, 0.28927171, 0.14283381, 0.11835764, 0.40524362,\n",
       "        0.05573133, 0.47888479, 0.20129839, 0.5534552 , 0.27435778],\n",
       "       [0.23907861, 0.78299291, 0.60355015, 0.95017211, 0.51856495,\n",
       "        0.59856958, 0.91226508, 0.17757241, 0.79151067, 0.75752226],\n",
       "       [0.39584787, 0.97553597, 0.84330106, 0.79472108, 0.13331675,\n",
       "        0.22924914, 0.43395936, 0.74769867, 0.95916357, 0.76790598],\n",
       "       [0.19470024, 0.29167245, 0.17167492, 0.94459992, 0.77310492,\n",
       "        0.09047576, 0.90323552, 0.48404685, 0.84411449, 0.21953414],\n",
       "       [0.17574706, 0.12738537, 0.56755443, 0.74070505, 0.5003157 ,\n",
       "        0.29450175, 0.78475018, 0.44840616, 0.75013462, 0.49114654],\n",
       "       [0.33892582, 0.29346868, 0.04068095, 0.35974118, 0.90850904,\n",
       "        0.40977767, 0.84928324, 0.24941808, 0.09731838, 0.20644794],\n",
       "       [0.45824104, 0.27549614, 0.24900252, 0.26053913, 0.98792277,\n",
       "        0.26215581, 0.47766647, 0.98367262, 0.11020337, 0.83061885],\n",
       "       [0.3041647 , 0.68640891, 0.9517513 , 0.92743007, 0.70688856,\n",
       "        0.6956203 , 0.84221665, 0.28578057, 0.83274246, 0.59229906],\n",
       "       [0.50518315, 0.4825419 , 0.94290075, 0.41594506, 0.92900591,\n",
       "        0.31894369, 0.98391523, 0.82190566, 0.838919  , 0.09749515],\n",
       "       [0.06291509, 0.87798884, 0.42416087, 0.71406951, 0.33145826,\n",
       "        0.06142815, 0.75916138, 0.92293995, 0.56285001, 0.73558299]])"
      ]
     },
     "execution_count": 112,
     "metadata": {},
     "output_type": "execute_result"
    }
   ],
   "source": [
    "arr10 = np.random.random((10,10))\n",
    "new_arr10 = arr10 - np.mean(arr10, axis = 1)\n",
    "\n",
    "arr10"
   ]
  },
  {
   "cell_type": "code",
   "execution_count": 113,
   "metadata": {},
   "outputs": [
    {
     "data": {
      "text/plain": [
       "array([[ 0.50742594, -0.34390816, -0.48523613, -0.37335828, -0.08282107,\n",
       "        -0.31962577, -0.01066708, -0.48123186, -0.08022035, -0.27089773],\n",
       "       [-0.09723919,  0.14981303, -0.02451979,  0.45845619,  0.03050026,\n",
       "         0.22321248,  0.42271321, -0.50495785,  0.15783512,  0.21226676],\n",
       "       [ 0.05953007,  0.3423561 ,  0.21523111,  0.30300516, -0.35474794,\n",
       "        -0.14610796, -0.05559251,  0.06516841,  0.32548802,  0.22265047],\n",
       "       [-0.14161756, -0.34150743, -0.45639502,  0.452884  ,  0.28504023,\n",
       "        -0.28488134,  0.41368365, -0.19848341,  0.21043894, -0.32572136],\n",
       "       [-0.16057074, -0.5057945 , -0.06051552,  0.24898913,  0.01225101,\n",
       "        -0.08085535,  0.29519831, -0.2341241 ,  0.11645907, -0.05410897],\n",
       "       [ 0.00260801, -0.3397112 , -0.58738899, -0.13197474,  0.42044436,\n",
       "         0.03442058,  0.35973137, -0.43311218, -0.53635717, -0.33880756],\n",
       "       [ 0.12192324, -0.35768373, -0.37906743, -0.23117679,  0.49985809,\n",
       "        -0.11320129, -0.0118854 ,  0.30114237, -0.52347218,  0.28536334],\n",
       "       [-0.0321531 ,  0.05322904,  0.32368136,  0.43571415,  0.21882387,\n",
       "         0.3202632 ,  0.35266478, -0.39674969,  0.19906691,  0.04704356],\n",
       "       [ 0.16886535, -0.15063798,  0.3148308 , -0.07577085,  0.44094123,\n",
       "        -0.05641341,  0.49436335,  0.13937541,  0.20524345, -0.44776036],\n",
       "       [-0.27340272,  0.24480897, -0.20390907,  0.22235359, -0.15660642,\n",
       "        -0.31392895,  0.26960951,  0.24040969, -0.07082554,  0.19032749]])"
      ]
     },
     "execution_count": 113,
     "metadata": {},
     "output_type": "execute_result"
    }
   ],
   "source": [
    "new_arr10"
   ]
  },
  {
   "cell_type": "markdown",
   "metadata": {},
   "source": [
    "11) Создать матрицу случайных чисел размера 10 на 10 и отнять медиану по столбцам из каждого элемента столбца  "
   ]
  },
  {
   "cell_type": "code",
   "execution_count": 118,
   "metadata": {},
   "outputs": [],
   "source": [
    "arr11 = np.random.randint(10, size = (10, 10))\n",
    "new_arr11 = arr11 - np.median(arr11, axis = 0)"
   ]
  },
  {
   "cell_type": "code",
   "execution_count": 119,
   "metadata": {},
   "outputs": [
    {
     "data": {
      "text/plain": [
       "array([[2, 3, 5, 8, 3, 5, 5, 7, 1, 6],\n",
       "       [3, 5, 9, 2, 6, 1, 6, 7, 2, 5],\n",
       "       [5, 2, 5, 4, 2, 9, 1, 2, 0, 5],\n",
       "       [9, 1, 3, 8, 7, 7, 4, 5, 1, 3],\n",
       "       [3, 9, 9, 2, 0, 1, 5, 4, 0, 8],\n",
       "       [7, 6, 9, 1, 4, 6, 3, 9, 7, 7],\n",
       "       [7, 5, 9, 3, 0, 3, 1, 4, 6, 7],\n",
       "       [8, 4, 1, 1, 1, 2, 9, 6, 6, 8],\n",
       "       [0, 9, 0, 5, 8, 2, 3, 0, 3, 8],\n",
       "       [6, 5, 9, 3, 4, 1, 1, 4, 5, 1]])"
      ]
     },
     "execution_count": 119,
     "metadata": {},
     "output_type": "execute_result"
    }
   ],
   "source": [
    "arr11"
   ]
  },
  {
   "cell_type": "code",
   "execution_count": 121,
   "metadata": {},
   "outputs": [
    {
     "data": {
      "text/plain": [
       "array([5.5, 5. , 7. , 3. , 3.5, 2.5, 3.5, 4.5, 2.5, 6.5])"
      ]
     },
     "execution_count": 121,
     "metadata": {},
     "output_type": "execute_result"
    }
   ],
   "source": [
    "np.median(arr11, axis = 0)"
   ]
  },
  {
   "cell_type": "code",
   "execution_count": 120,
   "metadata": {},
   "outputs": [
    {
     "data": {
      "text/plain": [
       "array([[-3.5, -2. , -2. ,  5. , -0.5,  2.5,  1.5,  2.5, -1.5, -0.5],\n",
       "       [-2.5,  0. ,  2. , -1. ,  2.5, -1.5,  2.5,  2.5, -0.5, -1.5],\n",
       "       [-0.5, -3. , -2. ,  1. , -1.5,  6.5, -2.5, -2.5, -2.5, -1.5],\n",
       "       [ 3.5, -4. , -4. ,  5. ,  3.5,  4.5,  0.5,  0.5, -1.5, -3.5],\n",
       "       [-2.5,  4. ,  2. , -1. , -3.5, -1.5,  1.5, -0.5, -2.5,  1.5],\n",
       "       [ 1.5,  1. ,  2. , -2. ,  0.5,  3.5, -0.5,  4.5,  4.5,  0.5],\n",
       "       [ 1.5,  0. ,  2. ,  0. , -3.5,  0.5, -2.5, -0.5,  3.5,  0.5],\n",
       "       [ 2.5, -1. , -6. , -2. , -2.5, -0.5,  5.5,  1.5,  3.5,  1.5],\n",
       "       [-5.5,  4. , -7. ,  2. ,  4.5, -0.5, -0.5, -4.5,  0.5,  1.5],\n",
       "       [ 0.5,  0. ,  2. ,  0. ,  0.5, -1.5, -2.5, -0.5,  2.5, -5.5]])"
      ]
     },
     "execution_count": 120,
     "metadata": {},
     "output_type": "execute_result"
    }
   ],
   "source": [
    "new_arr11"
   ]
  },
  {
   "cell_type": "markdown",
   "metadata": {},
   "source": [
    "12) Создать матрицу случайных чисел 5x5. Добавить к ней столбецы максимумов и минимумов по строкам. Получится матрица 5x7.  "
   ]
  },
  {
   "cell_type": "code",
   "execution_count": 164,
   "metadata": {},
   "outputs": [
    {
     "data": {
      "text/plain": [
       "array([[2, 4, 3, 0, 3, 4, 0],\n",
       "       [4, 0, 4, 3, 4, 4, 0],\n",
       "       [1, 3, 4, 4, 2, 4, 1],\n",
       "       [0, 3, 0, 0, 2, 3, 0],\n",
       "       [0, 1, 0, 0, 1, 1, 0]])"
      ]
     },
     "execution_count": 164,
     "metadata": {},
     "output_type": "execute_result"
    }
   ],
   "source": [
    "arr12 = np.random.randint(5, size = (5, 5))\n",
    "max = arr12.max(axis = 1, keepdims=True)\n",
    "min = arr12.min(axis = 1, keepdims=True)\n",
    "np.hstack((arr12, max, min))\n",
    "# np.concatenate(arr12, max, axis = 1)"
   ]
  },
  {
   "cell_type": "markdown",
   "metadata": {},
   "source": [
    "13) Вектор чисел от 1 до 51 преобразовать в вектор нечетных чисел и в вектор четных чисел, поменять их размерности, чтобы получились две матрица. Найти произведение этих матриц. Найти обратную матрицу эётого произведения.  "
   ]
  },
  {
   "cell_type": "code",
   "execution_count": 182,
   "metadata": {},
   "outputs": [
    {
     "data": {
      "text/plain": [
       "array([   2,   12,   30,   56,   90,  132,  182,  240,  306,  380,  462,\n",
       "        552,  650,  756,  870,  992, 1122, 1260, 1406, 1560, 1722, 1892,\n",
       "       2070, 2256, 2450])"
      ]
     },
     "execution_count": 182,
     "metadata": {},
     "output_type": "execute_result"
    }
   ],
   "source": [
    "arr13 = np.arange(1,51)\n",
    "even = arr13[arr13 % 2 == 0]\n",
    "non_even = arr13[arr13 % 2 != 0]\n",
    "pr = even * non_even\n",
    "pr"
   ]
  },
  {
   "cell_type": "code",
   "execution_count": 217,
   "metadata": {},
   "outputs": [
    {
     "name": "stdout",
     "output_type": "stream",
     "text": [
      "[[1246 1330 1414 1498]\n",
      " [2902 3130 3358 3586]\n",
      " [4558 4930 5302 5674]\n",
      " [6214 6730 7246 7762]]\n"
     ]
    }
   ],
   "source": [
    "a =np.mat(np.arange(1,50)[1::2]).reshape(4,6)\n",
    "b =np.mat(np.arange(1,50)[2::2]).reshape(6,4)\n",
    "\n",
    "print(a*b)"
   ]
  },
  {
   "cell_type": "code",
   "execution_count": 220,
   "metadata": {},
   "outputs": [
    {
     "data": {
      "text/plain": [
       "matrix([[ 2,  4,  6,  8, 10, 12],\n",
       "        [14, 16, 18, 20, 22, 24],\n",
       "        [26, 28, 30, 32, 34, 36],\n",
       "        [38, 40, 42, 44, 46, 48]])"
      ]
     },
     "execution_count": 220,
     "metadata": {},
     "output_type": "execute_result"
    }
   ],
   "source": [
    "a"
   ]
  },
  {
   "cell_type": "code",
   "execution_count": 193,
   "metadata": {},
   "outputs": [
    {
     "data": {
      "text/plain": [
       "matrix([[ 3,  5,  7,  9],\n",
       "        [11, 13, 15, 17],\n",
       "        [19, 21, 23, 25],\n",
       "        [27, 29, 31, 33],\n",
       "        [35, 37, 39, 41],\n",
       "        [43, 45, 47, 49]])"
      ]
     },
     "execution_count": 193,
     "metadata": {},
     "output_type": "execute_result"
    }
   ],
   "source": [
    "b"
   ]
  },
  {
   "cell_type": "markdown",
   "metadata": {},
   "source": [
    "14) Создать 8x8 матрицу и заполнить её в шахматном порядке нулями и единицами. "
   ]
  },
  {
   "cell_type": "code",
   "execution_count": null,
   "metadata": {},
   "outputs": [],
   "source": []
  }
 ],
 "metadata": {
  "kernelspec": {
   "display_name": "Python 3.9.12 ('base')",
   "language": "python",
   "name": "python3"
  },
  "language_info": {
   "codemirror_mode": {
    "name": "ipython",
    "version": 3
   },
   "file_extension": ".py",
   "mimetype": "text/x-python",
   "name": "python",
   "nbconvert_exporter": "python",
   "pygments_lexer": "ipython3",
   "version": "3.9.12"
  },
  "vscode": {
   "interpreter": {
    "hash": "ad2bdc8ecc057115af97d19610ffacc2b4e99fae6737bb82f5d7fb13d2f2c186"
   }
  }
 },
 "nbformat": 4,
 "nbformat_minor": 4
}
